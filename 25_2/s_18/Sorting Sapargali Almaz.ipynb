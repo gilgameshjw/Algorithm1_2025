{
 "cells": [
  {
   "cell_type": "code",
   "execution_count": 8,
   "id": "56dff588-b12e-409b-a584-96f9733162aa",
   "metadata": {},
   "outputs": [
    {
     "name": "stdout",
     "output_type": "stream",
     "text": [
      "Original: [5, 2, 9, 1, 5, 6]\n",
      "Sorted:   [1, 2, 5, 5, 6, 9]\n",
      "\n",
      "Original: [3, 0, -1, 8, 7]\n",
      "Sorted:   [-1, 0, 3, 7, 8]\n",
      "\n",
      "Original: [1]\n",
      "Sorted:   [1]\n",
      "\n",
      "Original: []\n",
      "Sorted:   []\n",
      "\n"
     ]
    }
   ],
   "source": [
    "def bad_sort(arr):\n",
    "    \"\"\"\n",
    "    A simple O(n^2) sorting algorithm (Bubble Sort).\n",
    "    Repeatedly swaps adjacent elements if they are in the wrong order.\n",
    "    \"\"\"\n",
    "    n = len(arr)\n",
    "    for i in range(n):\n",
    "        for j in range(0, n - i - 1):\n",
    "            if arr[j] > arr[j + 1]:\n",
    "                # Swap elements\n",
    "                arr[j], arr[j + 1] = arr[j + 1], arr[j]\n",
    "    return arr\n",
    "\n",
    "\n",
    "# --- Example usage and testing ---\n",
    "if __name__ == \"__main__\":\n",
    "    test_arrays = [\n",
    "        [5, 2, 9, 1, 5, 6],\n",
    "        [3, 0, -1, 8, 7],\n",
    "        [1],\n",
    "        [],\n",
    "    ]\n",
    "\n",
    "    for arr in test_arrays:\n",
    "        print(f\"Original: {arr}\")\n",
    "        sorted_arr = bad_sort(arr.copy())\n",
    "        print(f\"Sorted:   {sorted_arr}\\n\")"
   ]
  },
  {
   "cell_type": "code",
   "execution_count": 9,
   "id": "0d10bf67-0762-4b8d-971d-05fead1c7458",
   "metadata": {},
   "outputs": [
    {
     "name": "stdout",
     "output_type": "stream",
     "text": [
      "Original: [5, 2, 9, 1, 5, 6]\n",
      "Sorted:   [1, 2, 5, 5, 6, 9]\n",
      "\n",
      "Original: [3, 0, -1, 8, 7]\n",
      "Sorted:   [-1, 0, 3, 7, 8]\n",
      "\n",
      "Original: [1]\n",
      "Sorted:   [1]\n",
      "\n",
      "Original: []\n",
      "Sorted:   []\n",
      "\n"
     ]
    }
   ],
   "source": [
    "if __name__ == \"__main__\":\n",
    "    test_arrays = [\n",
    "        [5, 2, 9, 1, 5, 6],\n",
    "        [3, 0, -1, 8, 7],\n",
    "        [1],\n",
    "        [],\n",
    "    ]\n",
    "\n",
    "    for arr in test_arrays:\n",
    "        print(f\"Original: {arr}\")\n",
    "        sorted_arr = bad_sort(arr.copy())\n",
    "        print(f\"Sorted:   {sorted_arr}\\n\")\n",
    "\n",
    "\n",
    "\n",
    "import random\n",
    "\n",
    "def bad_sort(arr):\n",
    "    \"\"\"\n",
    "    A simple O(n^2) sorting algorithm (Bubble Sort).\n",
    "    Repeatedly swaps adjacent elements if they are in the wrong order.\n",
    "    \"\"\"\n",
    "    n = len(arr)\n",
    "    for i in range(n):\n",
    "        for j in range(0, n - i - 1):\n",
    "            if arr[j] > arr[j + 1]:\n",
    "                arr[j], arr[j + 1] = arr[j + 1], arr[j]\n",
    "    return arr\n",
    "\n",
    "\n",
    "def run_tests():\n",
    "    random.seed(42)\n"
   ]
  },
  {
   "cell_type": "code",
   "execution_count": 16,
   "id": "d6af09cf-822b-4324-92a6-3c2a62799436",
   "metadata": {},
   "outputs": [
    {
     "name": "stdout",
     "output_type": "stream",
     "text": [
      "[OK] Edge cases passed (7 cases).\n"
     ]
    }
   ],
   "source": [
    "import numpy as np\n",
    "# --- 1) Deterministic edge-case tests ---\n",
    "if __name__ == \"__main__\":\n",
    "    test_arrays = [\n",
    "        [],                          # empty\n",
    "        [1],                         # single\n",
    "        [1, 1, 1, 1],                # all equal\n",
    "        [1, 2, 3, 4, 5],             # already sorted\n",
    "        [5, 4, 3, 2, 1],             # reverse sorted\n",
    "        [3, -1, 0, -5, 9, 3, 3],     # negatives + duplicates\n",
    "        [2, 2, 1, 2, 1, 2, 1],       # many duplicates\n",
    "    ]\n",
    "\n",
    "    for idx, case in enumerate(test_arrays, 1):\n",
    "        got = bad_sort(case.copy())\n",
    "        exp = sorted(case)\n",
    "        assert got == exp, f\"Edge case #{idx} failed: {case} -> {got} != {exp}\"\n",
    "\n",
    "    print(f\"[OK] Edge cases passed ({len(test_arrays)} cases).\")\n"
   ]
  },
  {
   "cell_type": "code",
   "execution_count": 17,
   "id": "cf41a090-3272-4af7-aae8-2eebe5434ab9",
   "metadata": {},
   "outputs": [
    {
     "name": "stdout",
     "output_type": "stream",
     "text": [
      "[OK] Random tests passed for sizes [0, 1, 2, 5, 10, 20, 50, 100] (trials: 80).\n"
     ]
    }
   ],
   "source": [
    " # --- 2) Randomized tests for various sizes ---\n",
    "if __name__ == \"__main__\":\n",
    "\n",
    "    sizes = [0, 1, 2, 5, 10, 20, 50, 100]\n",
    "    trials_per_size = 10\n",
    "\n",
    "    total_trials = 0\n",
    "    for n in sizes:\n",
    "        for _ in range(trials_per_size):\n",
    "            # integers in a reasonable range; include negatives\n",
    "            arr = [random.randint(-10_000, 10_000) for _ in range(n)]\n",
    "            got = bad_sort(arr.copy())\n",
    "            exp = sorted(arr)\n",
    "            assert got == exp, f\"Random test failed (n={n}): {arr[:10]}... -> {got[:10]}... != {exp[:10]}...\"\n",
    "            total_trials += 1\n",
    "\n",
    "    print(f\"[OK] Random tests passed for sizes {sizes} (trials: {total_trials}).\")\n"
   ]
  },
  {
   "cell_type": "code",
   "execution_count": 19,
   "id": "1b2bd24a-8664-4f69-8b37-70ddac10e46a",
   "metadata": {},
   "outputs": [
    {
     "name": "stdout",
     "output_type": "stream",
     "text": [
      "[OK] Stability check passed.\n",
      "All tests passed \n"
     ]
    }
   ],
   "source": [
    "\n",
    "if __name__ == \"__main__\":\n",
    "\n",
    "\n",
    "    # Bubble sort as written is stable; verify on (value, original_index) pairs.\n",
    "    arr = [(v, i) for i, v in enumerate([3, 1, 3, 2, 3, 1])]\n",
    "    # Sort by first component only for expected (stable) behavior:\n",
    "    exp = sorted(arr, key=lambda x: x[0])  # Python's sorted is stable\n",
    "    got = bad_sort(arr.copy())\n",
    "    assert got == exp, f\"Stability check failed: {got} != {exp}\"\n",
    "\n",
    "    print(\"[OK] Stability check passed.\")\n",
    "\n",
    "\n",
    "    run_tests()\n",
    "    print(\"All tests passed \")"
   ]
  },
  {
   "cell_type": "code",
   "execution_count": 21,
   "id": "7ef970a6-2e89-4ca2-a15b-8c4085f7d641",
   "metadata": {},
   "outputs": [
    {
     "name": "stdout",
     "output_type": "stream",
     "text": [
      "[1, 2, 3, 3, 5, 5, 8, 9]\n"
     ]
    }
   ],
   "source": [
    "import random\n",
    "\n",
    "def quick_sort_random(arr):\n",
    "    \"\"\"\n",
    "    QuickSort with random pivot (not in-place).\n",
    "    Returns a NEW sorted list.\n",
    "    \"\"\"\n",
    "    if len(arr) <= 1:\n",
    "        return arr\n",
    "\n",
    "    pivot = random.choice(arr)\n",
    "    left  = [x for x in arr if x < pivot]\n",
    "    equal = [x for x in arr if x == pivot]\n",
    "    right = [x for x in arr if x > pivot]\n",
    "\n",
    "    return quick_sort_random(left) + equal + quick_sort_random(right)\n",
    "\n",
    "# ---- Пример использования ----\n",
    "data = [5, 3, 8, 3, 1, 9, 2, 5]\n",
    "sorted_data = quick_sort_random(data)  # важно сохранить результат\n",
    "print(sorted_data)                     # и/или вывести на экран\n",
    "\n"
   ]
  },
  {
   "cell_type": "code",
   "execution_count": 23,
   "id": "b249ed23-1d82-426b-8f5f-a6530345cecc",
   "metadata": {},
   "outputs": [
    {
     "name": "stdout",
     "output_type": "stream",
     "text": [
      "list before sorting [7, 3, 5, 2, 9, 1, 6, 8, 4]\n",
      "list after sorting [1, 2, 3, 4, 5, 6, 7, 8, 9]\n"
     ]
    }
   ],
   "source": [
    "import random\n",
    "\n",
    "\n",
    "# 2) Quick Sort with AVERAGE PIVOT\n",
    "\n",
    "def quick_sort_avg(arr):\n",
    "    \"\"\"\n",
    "    QuickSort implementation using the average of\n",
    "    first, middle, and last elements as pivot.\n",
    "    Time complexity: O(n log n) average, O(n^2) worst\n",
    "    Space complexity: O(n) (because new lists are created)\n",
    "    \"\"\"\n",
    "    if len(arr) <= 1:\n",
    "        return arr\n",
    "\n",
    "    low, mid, high = arr[0], arr[len(arr)//2], arr[-1]\n",
    "    pivot = (low + mid + high) / 3.0\n",
    "\n",
    "    left  = [x for x in arr if x < pivot]\n",
    "    equal = [x for x in arr if x == pivot]\n",
    "    right = [x for x in arr if x > pivot]\n",
    "\n",
    "    return quick_sort_avg(left) + equal + quick_sort_avg(right)\n",
    "\n",
    "\n",
    "\n",
    "if __name__ == \"__main__\":\n",
    "    data = [7, 3, 5, 2, 9, 1, 6, 8, 4]\n",
    "    print(\"list before sorting\", data)\n",
    "\n",
    "    sorted_data = quick_sort_avg(data)\n",
    "    print(\"list after sorting\", sorted_data)\n"
   ]
  },
  {
   "cell_type": "code",
   "execution_count": 24,
   "id": "f199fbfc-1d99-455e-8ca3-c7782565eb61",
   "metadata": {},
   "outputs": [
    {
     "name": "stdout",
     "output_type": "stream",
     "text": [
      "\n",
      "Original: [5, 2, 9, 1, 5, 6]\n",
      "Random pivot: [1, 2, 5, 5, 6, 9]\n",
      "Avg pivot:    [1, 2, 5, 5, 6, 9]\n",
      "Python sort:  [1, 2, 5, 5, 6, 9]\n",
      "\n",
      "Original: [3, 0, -1, 8, 7]\n",
      "Random pivot: [-1, 0, 3, 7, 8]\n",
      "Avg pivot:    [-1, 0, 3, 7, 8]\n",
      "Python sort:  [-1, 0, 3, 7, 8]\n",
      "\n",
      "Original: [1]\n",
      "Random pivot: [1]\n",
      "Avg pivot:    [1]\n",
      "Python sort:  [1]\n",
      "\n",
      "Original: []\n",
      "Random pivot: []\n",
      "Avg pivot:    []\n",
      "Python sort:  []\n",
      "\n",
      "Original: [10, 9, 8, 7, 6, 5, 4]\n",
      "Random pivot: [4, 5, 6, 7, 8, 9, 10]\n",
      "Avg pivot:    [4, 5, 6, 7, 8, 9, 10]\n",
      "Python sort:  [4, 5, 6, 7, 8, 9, 10]\n",
      "\n",
      "Original: [3, 3, 3, 3]\n",
      "Random pivot: [3, 3, 3, 3]\n",
      "Avg pivot:    [3, 3, 3, 3]\n",
      "Python sort:  [3, 3, 3, 3]\n",
      "\n",
      " All QuickSort tests passed successfully.\n"
     ]
    }
   ],
   "source": [
    "# TESTING BOTH VARIANTS\n",
    "\n",
    "if __name__ == \"__main__\":\n",
    "    test_cases = [\n",
    "        [5, 2, 9, 1, 5, 6],\n",
    "        [3, 0, -1, 8, 7],\n",
    "        [1],\n",
    "        [],\n",
    "        [10, 9, 8, 7, 6, 5, 4],\n",
    "        [3, 3, 3, 3],\n",
    "    ]\n",
    "\n",
    "    for arr in test_cases:\n",
    "        print(f\"\\nOriginal: {arr}\")\n",
    "\n",
    "        sorted_rand = quick_sort_random(arr.copy())\n",
    "        sorted_avg = quick_sort_avg(arr.copy())\n",
    "        python_sorted = sorted(arr)\n",
    "\n",
    "        print(f\"Random pivot: {sorted_rand}\")\n",
    "        print(f\"Avg pivot:    {sorted_avg}\")\n",
    "        print(f\"Python sort:  {python_sorted}\")\n",
    "\n",
    "        assert sorted_rand == python_sorted\n",
    "        assert sorted_avg == python_sorted\n",
    "\n",
    "    print(\"\\n All QuickSort tests passed successfully.\")\n"
   ]
  },
  {
   "cell_type": "code",
   "execution_count": 27,
   "id": "d7548d44-bbac-488e-9c9e-b228d57acd76",
   "metadata": {},
   "outputs": [
    {
     "name": "stdout",
     "output_type": "stream",
     "text": [
      "list before sorting [38, 27, 43, 3, 9, 82, 10]\n",
      "list after sorting [3, 9, 10, 27, 38, 43, 82]\n"
     ]
    }
   ],
   "source": [
    "\n",
    "# 3) Merge Sort\n",
    "\n",
    "\n",
    "def merge_sort(arr):\n",
    "    \"\"\"\n",
    "    Recursive Merge Sort implementation.\n",
    "    Time complexity: O(n log n)\n",
    "    Space complexity: O(n)\n",
    "    \"\"\"\n",
    "    if len(arr) <= 1:\n",
    "        return arr\n",
    "\n",
    "    mid = len(arr) // 2\n",
    "    left_half = merge_sort(arr[:mid])\n",
    "    right_half = merge_sort(arr[mid:])\n",
    "\n",
    "    return merge(left_half, right_half)\n",
    "\n",
    "\n",
    "def merge(left, right):\n",
    "    \"\"\"Merge two sorted lists into one sorted list.\"\"\"\n",
    "    merged = []\n",
    "    i = j = 0\n",
    "\n",
    "    # Compare elements from both halves\n",
    "    while i < len(left) and j < len(right):\n",
    "        if left[i] <= right[j]:\n",
    "            merged.append(left[i])\n",
    "            i += 1\n",
    "        else:\n",
    "            merged.append(right[j])\n",
    "            j += 1\n",
    "\n",
    "    # Append remaining elements (if any)\n",
    "    merged.extend(left[i:])\n",
    "    merged.extend(right[j:])\n",
    "    return merged\n",
    "\n",
    "\n",
    "\n",
    "if __name__ == \"__main__\":\n",
    "    data = [38, 27, 43, 3, 9, 82, 10]\n",
    "    print(\"list before sorting\", data)\n",
    "\n",
    "    sorted_data = merge_sort(data)\n",
    "    print(\"list after sorting\", sorted_data)\n"
   ]
  },
  {
   "cell_type": "code",
   "execution_count": 28,
   "id": "b0d74f0a-cdaf-4559-b405-1742e5f2fef3",
   "metadata": {},
   "outputs": [
    {
     "name": "stdout",
     "output_type": "stream",
     "text": [
      "\n",
      "Original: [5, 2, 9, 1, 5, 6]\n",
      "Sorted:   [1, 2, 5, 5, 6, 9]\n",
      "\n",
      "Original: [3, 0, -1, 8, 7]\n",
      "Sorted:   [-1, 0, 3, 7, 8]\n",
      "\n",
      "Original: [1]\n",
      "Sorted:   [1]\n",
      "\n",
      "Original: []\n",
      "Sorted:   []\n",
      "\n",
      "Original: [10, 9, 8, 7, 6, 5, 4]\n",
      "Sorted:   [4, 5, 6, 7, 8, 9, 10]\n",
      "\n",
      "Original: [3, 3, 3, 3]\n",
      "Sorted:   [3, 3, 3, 3]\n",
      "\n",
      " All Merge Sort tests passed successfully.\n"
     ]
    }
   ],
   "source": [
    "# TESTING\n",
    "\n",
    "if __name__ == \"__main__\":\n",
    "    test_cases = [\n",
    "        [5, 2, 9, 1, 5, 6],\n",
    "        [3, 0, -1, 8, 7],\n",
    "        [1],\n",
    "        [],\n",
    "        [10, 9, 8, 7, 6, 5, 4],\n",
    "        [3, 3, 3, 3],\n",
    "    ]\n",
    "\n",
    "    for arr in test_cases:\n",
    "        print(f\"\\nOriginal: {arr}\")\n",
    "        sorted_arr = merge_sort(arr.copy())\n",
    "        expected = sorted(arr)\n",
    "        print(f\"Sorted:   {sorted_arr}\")\n",
    "        assert sorted_arr == expected, f\"Failed on {arr}\"\n",
    "\n",
    "    print(\"\\n All Merge Sort tests passed successfully.\")\n"
   ]
  },
  {
   "cell_type": "code",
   "execution_count": 30,
   "id": "f522066b-11de-44fd-a537-2475db9fe811",
   "metadata": {},
   "outputs": [],
   "source": [
    "# ----------------------------------------------------------\n",
    "# Heap Sort Implementation\n",
    "# ----------------------------------------------------------\n",
    "def heap_sort(arr):\n",
    "    \"\"\"\n",
    "    In-place Heap Sort implementation using a max-heap.\n",
    "    Time complexity: O(n log n)\n",
    "    Space complexity: O(1)\n",
    "    \"\"\"\n",
    "    n = len(arr)\n",
    "\n",
    "    # --- Build a max heap ---\n",
    "    for i in range(n // 2 - 1, -1, -1):\n",
    "        heapify(arr, n, i)\n",
    "\n",
    "    # --- Extract elements from heap one by one ---\n",
    "    for i in range(n - 1, 0, -1):\n",
    "        arr[i], arr[0] = arr[0], arr[i]   # Move max to end\n",
    "        heapify(arr, i, 0)                # Rebuild heap on reduced array\n",
    "\n",
    "    return arr\n",
    "\n",
    "\n",
    "def heapify(arr, n, i):\n",
    "    \"\"\"\n",
    "    Ensure the subtree rooted at index i is a max-heap,\n",
    "    assuming subtrees below are already heaps.\n",
    "    \"\"\"\n",
    "    largest = i\n",
    "    left = 2 * i + 1\n",
    "    right = 2 * i + 2\n",
    "\n",
    "    # Check left child\n",
    "    if left < n and arr[left] > arr[largest]:\n",
    "        largest = left\n",
    "\n",
    "    # Check right child\n",
    "    if right < n and arr[right] > arr[largest]:\n",
    "        largest = right\n",
    "\n",
    "    # If root isn't largest, swap and continue heapifying\n",
    "    if largest != i:\n",
    "        arr[i], arr[largest] = arr[largest], arr[i]\n",
    "        heapify(arr, n, largest)\n"
   ]
  },
  {
   "cell_type": "code",
   "execution_count": 31,
   "id": "ced12434-632a-4f78-b2e6-bb3dc1a39daa",
   "metadata": {},
   "outputs": [
    {
     "name": "stdout",
     "output_type": "stream",
     "text": [
      "\n",
      "Original: [5, 2, 9, 1, 5, 6]\n",
      "Sorted:   [1, 2, 5, 5, 6, 9]\n",
      "\n",
      "Original: [3, 0, -1, 8, 7]\n",
      "Sorted:   [-1, 0, 3, 7, 8]\n",
      "\n",
      "Original: [1]\n",
      "Sorted:   [1]\n",
      "\n",
      "Original: []\n",
      "Sorted:   []\n",
      "\n",
      "Original: [10, 9, 8, 7, 6, 5, 4]\n",
      "Sorted:   [4, 5, 6, 7, 8, 9, 10]\n",
      "\n",
      "Original: [3, 3, 3, 3]\n",
      "Sorted:   [3, 3, 3, 3]\n",
      "\n",
      " All Heap Sort tests passed successfully.\n"
     ]
    }
   ],
   "source": [
    "# TESTING\n",
    "# ----------------------------------------------------------\n",
    "if __name__ == \"__main__\":\n",
    "    test_cases = [\n",
    "        [5, 2, 9, 1, 5, 6],\n",
    "        [3, 0, -1, 8, 7],\n",
    "        [1],\n",
    "        [],\n",
    "        [10, 9, 8, 7, 6, 5, 4],\n",
    "        [3, 3, 3, 3],\n",
    "    ]\n",
    "\n",
    "    for arr in test_cases:\n",
    "        print(f\"\\nOriginal: {arr}\")\n",
    "        sorted_arr = heap_sort(arr.copy())\n",
    "        expected = sorted(arr)\n",
    "        print(f\"Sorted:   {sorted_arr}\")\n",
    "        assert sorted_arr == expected, f\"Failed on {arr}\"\n",
    "\n",
    "    print(\"\\n All Heap Sort tests passed successfully.\")\n",
    "\n"
   ]
  },
  {
   "cell_type": "code",
   "execution_count": null,
   "id": "56984d7d-ef6c-4951-8ce2-ce4c80306df1",
   "metadata": {},
   "outputs": [],
   "source": []
  }
 ],
 "metadata": {
  "kernelspec": {
   "display_name": "Python 3 (ipykernel)",
   "language": "python",
   "name": "python3"
  },
  "language_info": {
   "codemirror_mode": {
    "name": "ipython",
    "version": 3
   },
   "file_extension": ".py",
   "mimetype": "text/x-python",
   "name": "python",
   "nbconvert_exporter": "python",
   "pygments_lexer": "ipython3",
   "version": "3.13.7"
  }
 },
 "nbformat": 4,
 "nbformat_minor": 5
}
